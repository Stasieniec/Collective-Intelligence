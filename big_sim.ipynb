{
 "cells": [
  {
   "cell_type": "code",
   "execution_count": 1,
   "metadata": {},
   "outputs": [
    {
     "name": "stdout",
     "output_type": "stream",
     "text": [
      "pygame 2.5.2 (SDL 2.28.3, Python 3.10.13)\n",
      "Hello from the pygame community. https://www.pygame.org/contribute.html\n"
     ]
    }
   ],
   "source": [
    "import new_speed_different as sim_dif\n",
    "import new_speed_symmetry as sim_sym\n"
   ]
  },
  {
   "cell_type": "code",
   "execution_count": 2,
   "metadata": {},
   "outputs": [
    {
     "name": "stdout",
     "output_type": "stream",
     "text": [
      "1 simulations done\n",
      "2 simulations done\n",
      "3 simulations done\n",
      "4 simulations done\n",
      "5 simulations done\n",
      "6 simulations done\n",
      "7 simulations done\n",
      "8 simulations done\n",
      "9 simulations done\n",
      "10 simulations done\n",
      "11 simulations done\n",
      "12 simulations done\n",
      "13 simulations done\n",
      "14 simulations done\n",
      "15 simulations done\n",
      "16 simulations done\n",
      "17 simulations done\n",
      "18 simulations done\n",
      "19 simulations done\n",
      "20 simulations done\n",
      "21 simulations done\n",
      "22 simulations done\n",
      "23 simulations done\n",
      "24 simulations done\n",
      "25 simulations done\n",
      "26 simulations done\n",
      "27 simulations done\n",
      "28 simulations done\n",
      "29 simulations done\n",
      "30 simulations done\n",
      "31 simulations done\n",
      "32 simulations done\n",
      "33 simulations done\n",
      "34 simulations done\n",
      "35 simulations done\n",
      "36 simulations done\n",
      "37 simulations done\n",
      "38 simulations done\n",
      "39 simulations done\n",
      "40 simulations done\n",
      "41 simulations done\n",
      "42 simulations done\n",
      "43 simulations done\n",
      "44 simulations done\n",
      "45 simulations done\n",
      "46 simulations done\n",
      "47 simulations done\n",
      "48 simulations done\n",
      "49 simulations done\n",
      "50 simulations done\n",
      "51 simulations done\n",
      "52 simulations done\n",
      "53 simulations done\n",
      "54 simulations done\n",
      "55 simulations done\n",
      "56 simulations done\n",
      "57 simulations done\n",
      "58 simulations done\n",
      "59 simulations done\n",
      "60 simulations done\n",
      "61 simulations done\n",
      "62 simulations done\n",
      "63 simulations done\n",
      "64 simulations done\n",
      "65 simulations done\n",
      "66 simulations done\n",
      "67 simulations done\n",
      "68 simulations done\n",
      "69 simulations done\n",
      "70 simulations done\n",
      "71 simulations done\n",
      "72 simulations done\n",
      "73 simulations done\n",
      "74 simulations done\n",
      "75 simulations done\n",
      "76 simulations done\n",
      "77 simulations done\n",
      "78 simulations done\n",
      "79 simulations done\n",
      "80 simulations done\n",
      "81 simulations done\n",
      "82 simulations done\n",
      "83 simulations done\n",
      "84 simulations done\n",
      "85 simulations done\n",
      "86 simulations done\n",
      "87 simulations done\n",
      "88 simulations done\n",
      "89 simulations done\n",
      "90 simulations done\n",
      "91 simulations done\n",
      "92 simulations done\n",
      "93 simulations done\n",
      "94 simulations done\n",
      "95 simulations done\n",
      "96 simulations done\n",
      "97 simulations done\n",
      "98 simulations done\n",
      "99 simulations done\n"
     ]
    }
   ],
   "source": [
    "for i in range(1, 100):\n",
    "    for j in range(0, 10):\n",
    "        sim_dif.run_simulation(i)\n",
    "    print(f'{i} simulations done')\n"
   ]
  },
  {
   "cell_type": "code",
   "execution_count": null,
   "metadata": {},
   "outputs": [],
   "source": [
    "for i in range(1, 100):\n",
    "    for j in range(0, 10):\n",
    "        sim_sym.run_simulation(i)\n",
    "    print(f'{i} simulations done')\n"
   ]
  }
 ],
 "metadata": {
  "kernelspec": {
   "display_name": "ml01",
   "language": "python",
   "name": "python3"
  },
  "language_info": {
   "codemirror_mode": {
    "name": "ipython",
    "version": 3
   },
   "file_extension": ".py",
   "mimetype": "text/x-python",
   "name": "python",
   "nbconvert_exporter": "python",
   "pygments_lexer": "ipython3",
   "version": "3.10.13"
  }
 },
 "nbformat": 4,
 "nbformat_minor": 2
}
