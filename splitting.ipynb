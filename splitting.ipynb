{
 "cells": [
  {
   "cell_type": "code",
   "execution_count": 4,
   "metadata": {},
   "outputs": [
    {
     "name": "stdout",
     "output_type": "stream",
     "text": [
      "2000\n"
     ]
    },
    {
     "ename": "AssertionError",
     "evalue": "Input file does not contain the expected number of lines",
     "output_type": "error",
     "traceback": [
      "\u001b[0;31m---------------------------------------------------------------------------\u001b[0m",
      "\u001b[0;31mAssertionError\u001b[0m                            Traceback (most recent call last)",
      "Cell \u001b[0;32mIn[4], line 22\u001b[0m\n\u001b[1;32m     19\u001b[0m output_files \u001b[38;5;241m=\u001b[39m [\u001b[38;5;124m'\u001b[39m\u001b[38;5;124moutput1.csv\u001b[39m\u001b[38;5;124m'\u001b[39m, \u001b[38;5;124m'\u001b[39m\u001b[38;5;124moutput2.csv\u001b[39m\u001b[38;5;124m'\u001b[39m, \u001b[38;5;124m'\u001b[39m\u001b[38;5;124moutput3.csv\u001b[39m\u001b[38;5;124m'\u001b[39m, \u001b[38;5;124m'\u001b[39m\u001b[38;5;124moutput4.csv\u001b[39m\u001b[38;5;124m'\u001b[39m]  \u001b[38;5;66;03m# Output file names\u001b[39;00m\n\u001b[1;32m     20\u001b[0m lines_per_file \u001b[38;5;241m=\u001b[39m \u001b[38;5;241m500\u001b[39m\n\u001b[0;32m---> 22\u001b[0m \u001b[43msplit_file\u001b[49m\u001b[43m(\u001b[49m\u001b[43minput_file\u001b[49m\u001b[43m,\u001b[49m\u001b[43m \u001b[49m\u001b[43moutput_files\u001b[49m\u001b[43m,\u001b[49m\u001b[43m \u001b[49m\u001b[43mlines_per_file\u001b[49m\u001b[43m)\u001b[49m\n",
      "Cell \u001b[0;32mIn[4], line 8\u001b[0m, in \u001b[0;36msplit_file\u001b[0;34m(input_file, output_files, lines_per_file)\u001b[0m\n\u001b[1;32m      6\u001b[0m \u001b[38;5;66;03m# Ensure the input file has the expected number of lines\u001b[39;00m\n\u001b[1;32m      7\u001b[0m \u001b[38;5;28mprint\u001b[39m(lines_per_file \u001b[38;5;241m*\u001b[39m \u001b[38;5;28mlen\u001b[39m(output_files))\n\u001b[0;32m----> 8\u001b[0m \u001b[38;5;28;01massert\u001b[39;00m \u001b[38;5;28mlen\u001b[39m(lines) \u001b[38;5;241m==\u001b[39m lines_per_file \u001b[38;5;241m*\u001b[39m \u001b[38;5;28mlen\u001b[39m(output_files), \u001b[38;5;124m\"\u001b[39m\u001b[38;5;124mInput file does not contain the expected number of lines\u001b[39m\u001b[38;5;124m\"\u001b[39m\n\u001b[1;32m     10\u001b[0m \u001b[38;5;66;03m# Split the lines and write to the output files\u001b[39;00m\n\u001b[1;32m     11\u001b[0m \u001b[38;5;28;01mfor\u001b[39;00m i, output_file \u001b[38;5;129;01min\u001b[39;00m \u001b[38;5;28menumerate\u001b[39m(output_files):\n",
      "\u001b[0;31mAssertionError\u001b[0m: Input file does not contain the expected number of lines"
     ]
    }
   ],
   "source": [
    "def split_file(input_file, output_files, lines_per_file):\n",
    "    # Read the entire input file\n",
    "    with open(input_file, 'r') as file:\n",
    "        lines = file.readlines()\n",
    "    \n",
    "    # Ensure the input file has the expected number of lines\n",
    "    print(lines_per_file * len(output_files))\n",
    "    print(len(lines))\n",
    "    assert len(lines) == lines_per_file * len(output_files), \"Input file does not contain the expected number of lines\"\n",
    "    \n",
    "    # Split the lines and write to the output files\n",
    "    for i, output_file in enumerate(output_files):\n",
    "        with open(output_file, 'w') as file:\n",
    "            start = i * lines_per_file\n",
    "            end = start + lines_per_file\n",
    "            file.writelines(lines[start:end])\n",
    "\n",
    "# Usage\n",
    "input_file = 'CORRECT_DATA.csv'  # Replace with your input file name\n",
    "output_files = ['output1.csv', 'output2.csv', 'output3.csv', 'output4.csv']  # Output file names\n",
    "lines_per_file = 500\n",
    "\n",
    "split_file(input_file, output_files, lines_per_file)\n"
   ]
  },
  {
   "cell_type": "code",
   "execution_count": null,
   "metadata": {},
   "outputs": [],
   "source": []
  }
 ],
 "metadata": {
  "kernelspec": {
   "display_name": "ml01",
   "language": "python",
   "name": "python3"
  },
  "language_info": {
   "codemirror_mode": {
    "name": "ipython",
    "version": 3
   },
   "file_extension": ".py",
   "mimetype": "text/x-python",
   "name": "python",
   "nbconvert_exporter": "python",
   "pygments_lexer": "ipython3",
   "version": "3.10.14"
  }
 },
 "nbformat": 4,
 "nbformat_minor": 2
}
